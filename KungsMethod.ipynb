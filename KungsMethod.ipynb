{
 "cells": [
  {
   "cell_type": "markdown",
   "metadata": {},
   "source": [
    "##### Kung's Algorithm\n",
    "reference: Kung, H. & Luccio, Fabrizio & Preparata, Franco. (1975). On Finding the Maxima of a Set of Vectors. Journal of the ACM (JACM). 22. 469-476. 10.1145/321906.321910. \n",
    "\n",
    "details: This algorithm takes a set of solutions/vectors and finds a set of non-dominated vectors.\n",
    "            It assumes that all of the optimization is for minimisation problems."
   ]
  },
  {
   "cell_type": "code",
   "execution_count": 1,
   "metadata": {},
   "outputs": [],
   "source": [
    "import numpy as np"
   ]
  },
  {
   "cell_type": "code",
   "execution_count": 2,
   "metadata": {},
   "outputs": [],
   "source": [
    "##Sort by first item of each vector - decreasing\n",
    "def Sort(V):\n",
    "    '''\n",
    "    Sort by first item of each vector in V\n",
    "    Inputs\n",
    "    V - set of vectors\n",
    "    '''\n",
    "    return V[np.argsort(V[:, 0])]"
   ]
  },
  {
   "cell_type": "code",
   "execution_count": null,
   "metadata": {},
   "outputs": [],
   "source": [
    "def compare(s, R):\n",
    "    '''\n",
    "    Checks one vector for non-dominance against a list of vectors\n",
    "\n",
    "    INPUTS\n",
    "    R - set of vectors\n",
    "    s - one vector\n",
    "\n",
    "    OUPUT\n",
    "    bool - True if s is not dominated by any vector in R, False otherwise\n",
    "    '''\n",
    "    for r in R:\n",
    "        if (s >= r).all():\n",
    "            return False \n",
    "    return True"
   ]
  },
  {
   "cell_type": "code",
   "execution_count": null,
   "metadata": {},
   "outputs": [],
   "source": [
    "def Front(V):\n",
    "    '''\n",
    "    A recursive function that finds the non-dominated vectors in V\n",
    "\n",
    "    INPUTS\n",
    "    V -  vectors\n",
    "\n",
    "    OUPUT\n",
    "    M - The set of non-dominated vectors in V\n",
    "    '''\n",
    "\n",
    "    vSize = len(V)\n",
    "    half = np.floor(vSize/2).astype(int)\n",
    "\n",
    "    if vSize == 1:\n",
    "        return V\n",
    "    \n",
    "    else:\n",
    "        R = Front(V[0:half])\n",
    "        S = Front(V[half:vSize])\n",
    "\n",
    "    T = np.array([s for s in S if compare(s,R)] )\n",
    "    \n",
    "    if T.size == 0:\n",
    "        return R\n",
    "    \n",
    "    M = np.concatenate((R,T))\n",
    "\n",
    "    return M"
   ]
  },
  {
   "cell_type": "code",
   "execution_count": null,
   "metadata": {},
   "outputs": [
    {
     "name": "stdout",
     "output_type": "stream",
     "text": [
      "[[1 4]\n",
      " [2 4]\n",
      " [2 3]\n",
      " [3 4]\n",
      " [3 3]\n",
      " [3 2]\n",
      " [4 4]\n",
      " [4 3]]\n",
      "R : [[1 4]]\n",
      "S: [[2 4]]\n",
      "test - M :[[1 4]]\n",
      "R : [[2 3]]\n",
      "S: [[3 4]]\n",
      "test - M :[[2 3]]\n",
      "R : [[1 4]]\n",
      "S: [[2 3]]\n",
      "test - M :[[1 4]\n",
      " [2 3]]\n",
      "R : [[3 3]]\n",
      "S: [[3 2]]\n",
      "test - M :[[3 3]\n",
      " [3 2]]\n",
      "R : [[4 4]]\n",
      "S: [[4 3]]\n",
      "test - M :[[4 4]\n",
      " [4 3]]\n",
      "R : [[3 3]\n",
      " [3 2]]\n",
      "S: [[4 4]\n",
      " [4 3]]\n",
      "test - M :[[3 3]\n",
      " [3 2]]\n",
      "R : [[1 4]\n",
      " [2 3]]\n",
      "S: [[3 3]\n",
      " [3 2]]\n",
      "test - M :[[1 4]\n",
      " [2 3]\n",
      " [3 2]]\n",
      "[[1 4]\n",
      " [2 3]\n",
      " [3 2]]\n"
     ]
    }
   ],
   "source": [
    "def KungMethod(V):\n",
    "    '''\n",
    "    An implementation of Kung's method, it returns the set of non-dominated values in V\n",
    "    NOTE: This algorithm assumes a minimisation problem\n",
    "    \n",
    "    INPUT\n",
    "    V - set of vectors\n",
    "    \n",
    "    OUPUT\n",
    "    set of non-dominated vectors\n",
    "    '''\n",
    "    \n",
    "    VSorted = Sort(V)\n",
    "    nonDom = Front(VSorted)\n",
    "    return nonDom\n"
   ]
  }
 ],
 "metadata": {
  "kernelspec": {
   "display_name": "base",
   "language": "python",
   "name": "python3"
  },
  "language_info": {
   "codemirror_mode": {
    "name": "ipython",
    "version": 3
   },
   "file_extension": ".py",
   "mimetype": "text/x-python",
   "name": "python",
   "nbconvert_exporter": "python",
   "pygments_lexer": "ipython3",
   "version": "3.12.3"
  }
 },
 "nbformat": 4,
 "nbformat_minor": 2
}
